{
 "cells": [
  {
   "cell_type": "markdown",
   "id": "d2903ef7-4c36-4b4f-b8dd-01fa2f35dfc5",
   "metadata": {},
   "source": [
    "## Esercitazione 6  del    27 Marzo 2023 \n"
   ]
  },
  {
   "cell_type": "markdown",
   "id": "8c418e44-c9dc-46d9-a3df-199e47ed1a93",
   "metadata": {},
   "source": [
    "## Esercizio 1 \n",
    "Si consideri l'equazione quadratica $x^2 + 2px - q = 0 $ con $p=10^5$ e $q=10^{-i}$, i=1,..,10.\n",
    "Si stabilisca se il problema relativo al calcolo della soluzione $x= -p+\\sqrt{p^2+q}$ risulta essere ben\n",
    "condizionato per tutti i valori di q assegnati;"
   ]
  },
  {
   "cell_type": "code",
   "execution_count": 3,
   "id": "8c026df9-705c-42b2-b4d6-08237e3b35c5",
   "metadata": {
    "tags": []
   },
   "outputs": [
    {
     "name": "stdout",
     "output_type": "stream",
     "text": [
      "Derivata di f : 1/(2*sqrt(p**2 + q))\n",
      "[0.99999239 0.99999239 1.00174164 1.01058054 1.14532461 0.34359738\n",
      "        inf        inf        inf        inf]\n",
      "soluzione  [5.00003807e-07 5.00003807e-08 4.99130692e-09 4.94765118e-10\n",
      " 4.36557457e-11 1.45519152e-11 0.00000000e+00 0.00000000e+00\n",
      " 0.00000000e+00 0.00000000e+00]\n",
      "q = [1.e-01 1.e-02 1.e-03 1.e-04 1.e-05 1.e-06 1.e-07 1.e-08 1.e-09 1.e-10]\n",
      "Lo spacing per 10000000000  vale 1.9073486328125e-06 \n"
     ]
    },
    {
     "name": "stderr",
     "output_type": "stream",
     "text": [
      "/tmp/ipykernel_84193/2516877011.py:26: RuntimeWarning: divide by zero encountered in divide\n",
      "  condizionamento=np.abs(df_numerica(vet_q)*vet_q/f_numerica(vet_q))\n"
     ]
    }
   ],
   "source": [
    "import numpy as np\n",
    "import sympy as sym\n",
    "from sympy.utilities.lambdify import lambdify\n",
    "import matplotlib.pyplot as plt\n",
    "import numpy.linalg as npl\n",
    "import scipy as sp\n",
    "\n",
    "q=sym.symbols('q')\n",
    "p=sym.symbols('p')\n",
    "\n",
    "f=-p+sym.sqrt(p**2+q)\n",
    "\n",
    "df=sym.diff(f,q,1)\n",
    "print( \"Derivata di f : {}\".format(df))\n",
    "\n",
    "fp=f.subs(p,10**5)\n",
    "dfp=df.subs(p,10**5)\n",
    "\n",
    "i=np.arange(1,11,1)\n",
    "vet_q=10.0**(-i)\n",
    "pnum=10**5\n",
    "\n",
    "df_numerica= lambdify(q,dfp,np) \n",
    "f_numerica=lambdify(q,fp,np)\n",
    "\n",
    "condizionamento=np.abs(df_numerica(vet_q)*vet_q/f_numerica(vet_q))\n",
    "print(condizionamento)\n",
    "\n",
    "sol=f_numerica(vet_q)\n",
    "print(\"soluzione \", sol)\n",
    "print(\"q =\",vet_q)\n",
    "print(\"Lo spacing per {}  vale {} \".format(pnum**2,np.spacing(pnum**2)))\n",
    "#Il problema è malcondizionato per valori di q minori di 1e-6, infatti esplode per valori che rendono nullo il denominatore.\n",
    "#Il denominatore per valori più  piccoli dello spacing nel sottointervallo dell'asse reale a cui appartiene p^2 si annulla,\n",
    "# dando luogo ad un valore x=-p+sqrt(p^2)=0. Infatti lo spacing vale  1.9073486328125e-06  e per valori di q più piccoli \n",
    "#dello spacing sqrt(p^2+q) viene approssimato a sqrt(p^2). "
   ]
  },
  {
   "cell_type": "markdown",
   "id": "1090e57b-2759-433c-9a3b-8cde7950f693",
   "metadata": {},
   "source": [
    "## Esercizio 2\n",
    "Scrivere una funzione numpy che calcola la norma infinito e la norma 1 di un vettore ed una matrice  e testarla su vettori e matrici  a propria scelta. Confrontarne i risultati con quelli ottenuti utilizzando la funzione norm di numpy.linalg\n",
    "\n",
    "(Ricorda la formula della norma infinito e della norma 1 di una matrice\n",
    "$||A||_\\infty= \\max_{j=1,n} \\sum_{i} |a_{ij}| $\n",
    "$\\quad ||A||_1= \\max_{i=1,n} \\sum_{j} |a_{ij}| $)"
   ]
  },
  {
   "cell_type": "code",
   "execution_count": 4,
   "id": "c11af3f6-00ff-4607-b1b6-92cfb649c7df",
   "metadata": {
    "tags": []
   },
   "outputs": [],
   "source": [
    "#Calcolo della norma 1\n",
    "def mynorma1(B):\n",
    "    c=np.sum(np.abs(B),axis=0)  #equivale a sommare gli elementi di tutte le righe \n",
    "    #(che equivale a fare la somma degli elementi di ogni colonna)\n",
    "    n1=np.max(c)\n",
    "    return n1\n"
   ]
  },
  {
   "cell_type": "code",
   "execution_count": 5,
   "id": "4cbc454a-a990-45b9-bb3f-12be39447b71",
   "metadata": {
    "tags": []
   },
   "outputs": [],
   "source": [
    "#Calcolo della norma infinito\n",
    "def mynormainf(B):\n",
    "    c=np.sum(np.abs(B),axis=1)  #equivale a sommare gli elementi di tutte le colonne\n",
    "    #(che equivale a fare la somma degli elementi di ogni riga)\n",
    "    ninf=np.max(c)\n",
    "    return ninf "
   ]
  },
  {
   "cell_type": "code",
   "execution_count": 6,
   "id": "11ecd4a6-ad09-4ebc-8b0e-8d902b433682",
   "metadata": {
    "tags": []
   },
   "outputs": [
    {
     "name": "stdout",
     "output_type": "stream",
     "text": [
      "mynorma1= 14.0\n",
      "norma 1 con numpy.linalg.norm  14.0\n",
      "mynormainf= 5.0\n",
      "norma inf con numpy.linalg.norm  5.0\n"
     ]
    }
   ],
   "source": [
    "B=np.array([[2.0],[3],[4],[5]])\n",
    "norma1=mynorma1(B)\n",
    "normainf=mynormainf(B)\n",
    "print(\"mynorma1=\", norma1)\n",
    "print(\"norma 1 con numpy.linalg.norm \", npl.norm(B,1))#Calcolo della norma 1\n",
    "print(\"mynormainf=\", normainf)\n",
    "print(\"norma inf con numpy.linalg.norm \", npl.norm(B,np.inf))"
   ]
  },
  {
   "cell_type": "markdown",
   "id": "04bd3bff-8fed-4451-9007-907ae9c73082",
   "metadata": {},
   "source": [
    "La stessa implementazione vale anche per calcolare la norma delle matrici.\n",
    "NB. Il vettore deve essere dato sotto forma di array 2d, con una delle dimensioni uguale ad 1."
   ]
  },
  {
   "cell_type": "code",
   "execution_count": 7,
   "id": "91e0d17e-065a-4d3c-ba9e-41527e7210db",
   "metadata": {
    "tags": []
   },
   "outputs": [
    {
     "name": "stdout",
     "output_type": "stream",
     "text": [
      "[[  2.   6.]\n",
      " [  3.  -2.]\n",
      " [  4.   7.]\n",
      " [  5. -11.]]\n",
      "mynorma1= 26.0\n",
      "norma 1 con numpy.linalg.norm  26.0\n",
      "mynormainf= 16.0\n",
      "norma inf con numpy.linalg.norm  16.0\n"
     ]
    }
   ],
   "source": [
    "B=np.array([[2.0,6.0],[3,-2.0],[4,7],[5,-11]])\n",
    "norma1=mynorma1(B)\n",
    "normainf=mynormainf(B)\n",
    "print(B)\n",
    "print(\"mynorma1=\", norma1)\n",
    "print(\"norma 1 con numpy.linalg.norm \", npl.norm(B,1))#Calcolo della norma 1\n",
    "print(\"mynormainf=\", normainf)\n",
    "print(\"norma inf con numpy.linalg.norm \", npl.norm(B,np.inf))\n"
   ]
  },
  {
   "cell_type": "markdown",
   "id": "b6f0000b-3345-45d7-a610-5d9a09b7c115",
   "metadata": {},
   "source": [
    "## Esercizio 3\n",
    "Implementare una funzione che calcola la norma 2 di una  matrice facendo uso della funzione eigvals del pacchetto numpy.linalg, (np.linalg.eigvals(A)). Testarla sulla matrice A=np.array([[4,-1,6],[2,3,-3],[1,-2,9/2]])   e confrontarne i risultati con quelli ottenuti utilizzando la funzione norm di numpy.linalg"
   ]
  },
  {
   "cell_type": "code",
   "execution_count": 8,
   "id": "10713bce-70dc-4681-9adb-9734675e30aa",
   "metadata": {
    "tags": []
   },
   "outputs": [],
   "source": [
    "def mynorma2(A):\n",
    "    M=np.dot(A.T,A)\n",
    "    autovalori=np.linalg.eigvals(M)\n",
    "    print(autovalori)\n",
    "    n2=np.sqrt(np.max(autovalori))\n",
    "    return n2"
   ]
  },
  {
   "cell_type": "code",
   "execution_count": 9,
   "id": "c7183ed9-0cc6-4cff-aa0f-2d020c45f274",
   "metadata": {
    "tags": []
   },
   "outputs": [
    {
     "name": "stdout",
     "output_type": "stream",
     "text": [
      "[8.20156824e+01 1.82343176e+01 1.03206384e-15]\n",
      "0.0\n",
      "mynorma 2 9.056251013341882\n",
      "norma 2 con numpy.linalg.norm  9.05625101334188\n"
     ]
    }
   ],
   "source": [
    "A=np.array([[4,-1,6],[2,3,-3],[1,-2,9/2]])\n",
    "norma2=mynorma2(A)\n",
    "print(np.linalg.det(A))\n",
    "print(\"mynorma 2\",norma2)\n",
    "print(\"norma 2 con numpy.linalg.norm \", npl.norm(A,2))"
   ]
  },
  {
   "cell_type": "markdown",
   "id": "2b3aefbb-af07-4543-91a9-e6b766760a6a",
   "metadata": {},
   "source": [
    "## Esercizio 4 \n",
    "Implementare il calcolo dell'indice di condizionamento in norma 2 di una matrice A come rapporto tra la radice dell'autovalore massimo di $A^TA$ e la radice dell'autovalore minimo di $A^TA$."
   ]
  },
  {
   "cell_type": "code",
   "execution_count": 10,
   "id": "6da34042-d768-46ab-970a-207203b0f83c",
   "metadata": {
    "tags": []
   },
   "outputs": [],
   "source": [
    "def mycond2(A):\n",
    "    M=np.dot(A.T,A)\n",
    "    autovalori=np.linalg.eigvals(M)\n",
    "    print(autovalori)\n",
    "    c2=np.sqrt(np.max(autovalori))/np.sqrt(np.min(autovalori))\n",
    "    return c2"
   ]
  },
  {
   "cell_type": "code",
   "execution_count": 11,
   "id": "a75e361f-2502-46a6-af05-21ba3de91327",
   "metadata": {
    "tags": []
   },
   "outputs": [
    {
     "name": "stdout",
     "output_type": "stream",
     "text": [
      "[286.75262522  35.84646974   1.40090504]\n",
      "my cond 2  uguale a 1.430703e+01\n",
      "condizionamento in norma 2 con numpy 1.430703e+01\n"
     ]
    }
   ],
   "source": [
    "A=np.array([[3,6,2],[14,2,1],[7,4,3]])\n",
    "cond2=mycond2(A)\n",
    "print(\"my cond 2  uguale a {:e}\".format(cond2))\n",
    "cond2p=np.linalg.cond(A,2)\n",
    "print(\"condizionamento in norma 2 con numpy {:e}\".format(cond2p))\n"
   ]
  },
  {
   "cell_type": "markdown",
   "id": "2b2f0afd-9374-4f8e-8a7b-eb783ba28fd4",
   "metadata": {},
   "source": [
    "## Esercizio 5\n",
    "- Costruire la matrice di vandermonde A, generata dal vettore x=[1.0,2.0,...,6.0] utilizzando la funzione np.vander(x, increasing=True) di numpy. \n",
    "- Calcolarne l'indice di condizionamento in norma 1 senza utilizzare la funzione cond di numpy.linalg e poi confrontarne il valore con quello ottenuto utilizzando la funzione.\n",
    "- Considerare il sistema lineare Ax=b  con matrice dei coefficienti A e termine noto costruito in maniera tale che la soluzione esatta sia il vettore x=[1,1,1,1,1,1] (ogni sua componente è 1)\n",
    "- Costruire il termine noto perturbato ottenuto perturbando solo la componente 0-esima del termine noto di una quantità pari a 0.025.\n",
    "- Risolvere il sistema con termine noto pertubato.\n",
    "- Calcolare l'errore relativo sul termine noto e l'errore relativo sulla soluzione. Cosa si può concludere?\n"
   ]
  },
  {
   "cell_type": "code",
   "execution_count": 12,
   "id": "088fc44e-ee56-48f5-b852-693276255ebd",
   "metadata": {
    "tags": []
   },
   "outputs": [
    {
     "name": "stdout",
     "output_type": "stream",
     "text": [
      "[[1.000e+00 1.000e+00 1.000e+00 1.000e+00 1.000e+00 1.000e+00]\n",
      " [1.000e+00 2.000e+00 4.000e+00 8.000e+00 1.600e+01 3.200e+01]\n",
      " [1.000e+00 3.000e+00 9.000e+00 2.700e+01 8.100e+01 2.430e+02]\n",
      " [1.000e+00 4.000e+00 1.600e+01 6.400e+01 2.560e+02 1.024e+03]\n",
      " [1.000e+00 5.000e+00 2.500e+01 1.250e+02 6.250e+02 3.125e+03]\n",
      " [1.000e+00 6.000e+00 3.600e+01 2.160e+02 1.296e+03 7.776e+03]]\n",
      "mycond 1.281105e+06\n",
      "condizionamento in norma 1 con numpy 1.281105e+06\n"
     ]
    }
   ],
   "source": [
    "x=np.arange(1.0,7.0)\n",
    "A=np.vander(x, increasing=True)\n",
    "print(A)\n",
    "mycond=mynorma1(A)*mynorma1(np.linalg.inv(A))\n",
    "print(\"mycond {:e}\".format(mycond))\n",
    "condp=np.linalg.cond(A,1)\n",
    "print(\"condizionamento in norma 1 con numpy {:e}\".format(condp))"
   ]
  },
  {
   "cell_type": "code",
   "execution_count": 13,
   "id": "7a13eae6-bf05-4da5-8deb-0d480d3fb070",
   "metadata": {
    "tags": []
   },
   "outputs": [
    {
     "name": "stdout",
     "output_type": "stream",
     "text": [
      "[[6.000e+00]\n",
      " [6.300e+01]\n",
      " [3.640e+02]\n",
      " [1.365e+03]\n",
      " [3.906e+03]\n",
      " [9.331e+03]]\n"
     ]
    }
   ],
   "source": [
    "#Costruisco il termine noto in maniera tale che la soluzione sia il vettore unitario\n",
    "b=np.sum(A,axis=1).reshape(6,1) #Calcolo la somma degli elementi di ogni riga \n",
    "#Con la scelta di questo termine noto la soluzione esatta è il vettore di tutti 1.\n",
    "print(b)"
   ]
  },
  {
   "cell_type": "code",
   "execution_count": 14,
   "id": "2d55e7bb-e86b-4624-a619-c05c858b0a0d",
   "metadata": {
    "tags": []
   },
   "outputs": [
    {
     "name": "stdout",
     "output_type": "stream",
     "text": [
      "errore dati  2.679241238881187e-06\n"
     ]
    }
   ],
   "source": [
    "bp=b.copy()\n",
    "bp[0]=bp[0]+0.025  #Perturbo l'elemento di posizione 0 del termine noto di una quantitù pari a 0.025\n",
    "errore_dati=np.linalg.norm(bp-b,np.inf)/np.linalg.norm(b,np.inf)\n",
    "print(\"errore dati \",errore_dati)"
   ]
  },
  {
   "cell_type": "code",
   "execution_count": 15,
   "id": "15a9fc9a-b0c2-411e-9253-e7d6b6b688de",
   "metadata": {
    "tags": []
   },
   "outputs": [
    {
     "name": "stdout",
     "output_type": "stream",
     "text": [
      "Soluzione esatta sistema senza perturbazione \n",
      "  [[1.]\n",
      " [1.]\n",
      " [1.]\n",
      " [1.]\n",
      " [1.]\n",
      " [1.]]\n",
      "Soluzione sistema con termine noto perturbato\n",
      "  [[1.15      ]\n",
      " [0.7825    ]\n",
      " [1.12083333]\n",
      " [0.96770833]\n",
      " [1.00416667]\n",
      " [0.99979167]]\n",
      "errore soluzione  0.21749999998442493\n"
     ]
    }
   ],
   "source": [
    "xesatta= np.ones((6,1))  #Soluzione esatta\n",
    "xp=sp.linalg.solve(A,bp)\n",
    "print(\"Soluzione esatta sistema senza perturbazione \\n \",xesatta)\n",
    "print(\"Soluzione sistema con termine noto perturbato\\n \",xp)\n",
    "errore_soluzione=np.linalg.norm(xp-xesatta,np.inf)/np.linalg.norm(xesatta,np.inf)\n",
    "print(\"errore soluzione \",errore_soluzione)\n",
    "#Ad un errore relativo sui dati pari a 2.67 e-06, corrisponde un errore relativo sulla soluzione di 0.2175.\n",
    "#Questo dipende dal fatto che il problema della soluzione del sistema lineare con la matrice A come nell'esercizio \n",
    "#è mal condizionato, quindi piccole perturbazioni sui dati vengono amplificate sulla soluzione\n",
    "#l'elevato indice di condizionamento della matrice A, che abbiamo visto essere 1.281105e+06 conferma la precedente.\n",
    "#Infatti abbiamo detto a lezione che l'indice di condizionamento della matrice A rappresenta un fattore di amplificazione\n",
    "#sulla soluzione di piccoli errori sui dati\n"
   ]
  },
  {
   "cell_type": "markdown",
   "id": "1fad1579-04c4-4aae-a840-2ab3120aaf2e",
   "metadata": {},
   "source": [
    "## Esercizio 6\n",
    "\n",
    "Assegnato il sistema lineare $Ax = b$, con\n",
    "$$\n",
    "A =\n",
    "\\left [\n",
    "\\begin{array}{ccc}\n",
    "6 & 63 & 662.2\\\\\n",
    "63 & 662.2 & 6967.8\\\\\n",
    "662.2 & 6967.8 & 73393.5664\n",
    "\\end{array}\n",
    "\\right ], \\qquad\n",
    "b =\n",
    "\\left [\n",
    "\\begin{array}{c}\n",
    "1.1\\\\\n",
    "2.33\\\\\n",
    "1.7\n",
    "\\end{array}\n",
    "\\right ]\n",
    "$$\n",
    "- trovare il vettore soluzione $x$ (usando il metodo solve del modulo linalg di Scipy);\n",
    "- perturbare la matrice dei coefficienti della quantità\n",
    "$$\n",
    "\\delta A =\n",
    "0.01 \\, \\ast \\,\n",
    "\\left [ \\begin{array}{ccc}\n",
    "1 & 0 & 0\\\\\n",
    "0 & 0 & 0\\\\\n",
    "0 & 0 & 0\n",
    "\\end{array}\n",
    "\\right ]\n",
    "$$\n",
    "quindi calcolare l'errore relativo sulla soluzione e confrontarlo con la\n",
    "perturbazione relativa sui dati di ingresso. Cosa si osserva?"
   ]
  },
  {
   "cell_type": "code",
   "execution_count": 16,
   "id": "f649b144-a699-40d4-9fac-b931e7f006d9",
   "metadata": {
    "tags": []
   },
   "outputs": [
    {
     "name": "stdout",
     "output_type": "stream",
     "text": [
      "Indice di condizionamento di A 1.975302e+10\n",
      "Errore relativo sui dati  1.2342088165597937e-07\n",
      "Errore relativo sui dati  in percentuale  1.2342088165597937e-05 %\n",
      "Errore relativo sulla soluzione  0.9995081547933965\n",
      "Errore relativo sulla soluzione  in percentuale  99.95081547933965 %\n"
     ]
    }
   ],
   "source": [
    "import numpy as np\n",
    "import numpy.linalg as npl\n",
    "import scipy.linalg as spl\n",
    "\n",
    "#Esempi di sistemi malcondizionati\n",
    "\n",
    "\n",
    "A=np.array([[6, 63, 662.2],[63, 662.2, 6967.8],[662.2, 6967.8, 73393.5664]])\n",
    "b=np.array([1.1, 2.33, 1.7])\n",
    "\n",
    "KA= npl.cond(A,np.inf)\n",
    "print(\"Indice di condizionamento di A {:e}\".format(KA))\n",
    "x=spl.solve(A,b)\n",
    "\n",
    "#perturbare la matrice\n",
    " \n",
    "A1=A.copy()\n",
    "A1[0,0]=A[0,0]+0.01\n",
    "x_per=spl.solve(A1,b)\n",
    "\n",
    "\n",
    "#Errore relativo sui dati\n",
    "err_dati=npl.norm(A-A1,np.inf)/npl.norm(A,np.inf)\n",
    "\n",
    "print(\"Errore relativo sui dati \", err_dati)\n",
    "print(\"Errore relativo sui dati  in percentuale \", err_dati*100,\"%\")\n",
    "\n",
    "err_rel_sol=npl.norm(x_per-x,np.inf)/npl.norm(x,np.inf)\n",
    "print(\"Errore relativo sulla soluzione \", err_rel_sol)\n",
    "print(\"Errore relativo sulla soluzione  in percentuale \", err_rel_sol*100,\"%\")\n",
    "#Ad un errore relativo sui dati pari a 1.23 e-07, corrisponde un errore relativo sulla soluzione di 0.9995.\n",
    "#Questo dipende dal fatto che il problema della soluzione del sistema lineare con la matrice A come nell'esercizio \n",
    "#è mal condizionato, quindi piccole perturbazioni sui dati vengono amplificate sulla soluzione\n",
    "#l'elevato indice di condizionamento della matrice A, che abbiamo visto essere 1.975302e+010 conferma la precedente affermazione.\n",
    "#Infatti abbiamo detto a lezione che l'indice di condizionamento della matrice A rappresenta un fattore di amplificazione\n",
    "#sulla soluzione di piccoli errori sui dati"
   ]
  },
  {
   "cell_type": "markdown",
   "id": "3fd35cbb-3eaa-4674-91ff-cf7148cac8b8",
   "metadata": {},
   "source": [
    "## Esercizio 7\n",
    " \n",
    "Assegnato il sistema lineare $Ax = b$, con $A$ matrice di Hilbert di ordine\n",
    "$4$ e $b = [1, 1, 1, 1]^T$,\n",
    " - trovare il vettore soluzione $x$ (usando il metodo solve del modulo linalg di Scipy);\n",
    " -  perturbare il vettore dei termini noti della quantità\n",
    "$$\n",
    "\\delta b = 0.01 \\, \\ast \\,\n",
    "\\left [\n",
    "\\begin{array}{c}\n",
    "1\\\\\n",
    "-1\\\\\n",
    "1\\\\\n",
    "-1\n",
    "\\end{array}\n",
    "\\right ]\n",
    "$$\n",
    "quindi calcolare la soluzione del sistema $A x_p= b_p$ con termine noto $b_p=b+ \\delta b$.\n",
    "Calcolare l'errore relativo sulla soluzione e confrontarlo con la perturbazione relativa sui dati di ingresso. Cosa si osserva?\n",
    "\n",
    "Nota: per la costruzione della matrice di Hilbert usare la funzione hilbert(n) del modulo scipy.linalg\n",
    "(scipy.linalg.hilbert(n))  dove bisogna specificare l'ordine n della matrice."
   ]
  },
  {
   "cell_type": "code",
   "execution_count": 17,
   "id": "c46f09e9-717e-4470-bdca-036fc2351e57",
   "metadata": {
    "tags": []
   },
   "outputs": [
    {
     "name": "stdout",
     "output_type": "stream",
     "text": [
      "[[1.         0.5        0.33333333 0.25      ]\n",
      " [0.5        0.33333333 0.25       0.2       ]\n",
      " [0.33333333 0.25       0.2        0.16666667]\n",
      " [0.25       0.2        0.16666667 0.14285714]]\n",
      "Indice di condizionamento di A 2.837500e+04\n",
      "[1.01 0.99 1.01 0.99]\n",
      "Errore relativo sui dati  0.01\n",
      "Errore relativo sui dati  in percentuale 1.0 %\n",
      "Errore relativo sulla soluzione 0.7566666666666719\n",
      "Errore relativo sulla soluzione  in percentuale 75.6666666666672 %\n"
     ]
    }
   ],
   "source": [
    "n=4\n",
    "A=spl.hilbert(4)\n",
    "print(A)\n",
    "condA=np.linalg.cond(A,np.inf)\n",
    "print(\"Indice di condizionamento di A {:e}\".format(condA))\n",
    "\n",
    "b=np.array([1,1,1,1])\n",
    "\n",
    "x= spl.solve(A,b)\n",
    "\n",
    "\n",
    "db=np.array([0.01, -0.01, 0.01, -0.01])\n",
    "bp=b+db\n",
    "print(bp)\n",
    "xp=spl.solve(A,bp)\n",
    "\n",
    "err_dati= npl.norm(db,np.inf)/npl.norm(b,np.inf)  \n",
    "print(\"Errore relativo sui dati \", err_dati)\n",
    "print(\"Errore relativo sui dati  in percentuale\", err_dati*100,\"%\")\n",
    "\n",
    "err_rel_sol=npl.norm(x-xp,np.inf)/npl.norm(x,np.inf) \n",
    "print(\"Errore relativo sulla soluzione\", err_rel_sol)\n",
    "print(\"Errore relativo sulla soluzione  in percentuale\", err_rel_sol*100,\"%\")\n",
    "#Ad un errore relativo sui dati pari a 0.01 (che in percentuale è pari all' 1%) , corrisponde un errore relativo \n",
    "#sulla soluzione di 0.7566 (che in percentuale è pari al 75%).\n",
    "#Questo dipende dal fatto che il problema della soluzione del sistema lineare con la matrice A come nell'esercizio \n",
    "#è mal condizionato, quindi piccole perturbazioni sui dati vengono amplificate sulla soluzione\n",
    "#l'elevato indice di condizionamento della matrice A, che abbiamo visto essere 2.837500e+04 conferma la precedente affermazione.\n",
    "#Infatti abbiamo detto a lezione che l'indice di condizionamento della matrice A rappresenta un fattore di amplificazione\n",
    "#sulla soluzione di piccoli errori sui dati"
   ]
  },
  {
   "cell_type": "markdown",
   "id": "b7609125-16d1-4652-8945-8128d7ba1ca4",
   "metadata": {},
   "source": [
    "## Esercizio 8   \n",
    "Si consideri lo sviluppo in serie dell'esponenziale $e^x=1+x+\\frac{1}{2!}x^2+\\frac{1}{3!}x^3+\\cdots =\\sum_{k=0}^\\infty \\frac{x^k}{k!} $. Si calcoli un'approssimazione dell'esponenziale troncando ad N=100 termini la serie, per valori di x che variano da -10 a 10 incluso. Si calcoli  per ogni valore di x l'errore relativo del valore approssimato rispetto al valore esatto, ottenuto mediante la funzione exp della libreria numpy. Cosa si osserva? Pensare ad un algoritmo più stabile ricordando che $e^{-x}=\\frac{1}{e^{|x|}}$.\n",
    "\n",
    "##N.B: Questo esercizio sarà ripreso nelle esercitazioni di potenziamento"
   ]
  },
  {
   "cell_type": "code",
   "execution_count": 18,
   "id": "9236b725-9236-4038-9aa8-103662bc724b",
   "metadata": {
    "tags": []
   },
   "outputs": [],
   "source": [
    "def esp_taylor(x,N):\n",
    "   \n",
    "    r=x\n",
    "    fattoriale=1\n",
    "    esponential=1+r\n",
    "    for i in range(2,N+1):\n",
    "        r=r*x\n",
    "        fattoriale=fattoriale*i\n",
    "        esponential=esponential+r/fattoriale\n",
    "    return esponential\n",
    " \n",
    "def esp_taylor_stabile(x,N):\n",
    "    \n",
    "    if x<0:\n",
    "        x=abs(x)\n",
    "        r=x\n",
    "        fattoriale=1\n",
    "        esponential=1+r;\n",
    "        for i in range(2,N+1):\n",
    "            r=r*x\n",
    "            fattoriale=fattoriale*i;\n",
    "            esponential=esponential+r/fattoriale;\n",
    "    \n",
    "        return 1/esponential\n",
    "    \n",
    "    else: \n",
    "\n",
    "        r=x\n",
    "        fattoriale=1\n",
    "        esponential=1+r;\n",
    "        for i in range(2,N+1):\n",
    "            r=r*x\n",
    "            fattoriale=fattoriale*i;\n",
    "            esponential=esponential+r/fattoriale;\n",
    "        return esponential"
   ]
  },
  {
   "cell_type": "code",
   "execution_count": 19,
   "id": "df1be504-3630-404c-be0c-03a8543b98d6",
   "metadata": {
    "tags": []
   },
   "outputs": [
    {
     "name": "stdout",
     "output_type": "stream",
     "text": [
      "[7.23266687e-09 5.77518674e-10 1.47727610e-10 1.26080974e-11\n",
      " 7.25031545e-13 2.13688307e-13 1.43963293e-14 9.75599868e-16\n",
      " 6.15262516e-16 1.50894954e-16 0.00000000e+00 1.63371290e-16\n",
      " 2.40403756e-16 3.53758398e-16 5.20561767e-16 1.91503972e-16\n",
      " 0.00000000e+00 6.22013862e-16 1.52550741e-16 0.00000000e+00\n",
      " 3.30327965e-16]\n"
     ]
    },
    {
     "data": {
      "image/png": "[encoded data removed]",
      "text/plain": [
       "<Figure size 640x480 with 1 Axes>"
      ]
     },
     "metadata": {},
     "output_type": "display_data"
    },
    {
     "data": {
      "image/png": "[encoded data removed]",
      "text/plain": [
       "<Figure size 640x480 with 1 Axes>"
      ]
     },
     "metadata": {},
     "output_type": "display_data"
    },
    {
     "data": {
      "image/png": "[encoded data removed]",
      "text/plain": [
       "<Figure size 640x480 with 1 Axes>"
      ]
     },
     "metadata": {},
     "output_type": "display_data"
    },
    {
     "name": "stdout",
     "output_type": "stream",
     "text": [
      "[1.49257138e-16 2.19634530e-16 3.23196113e-16 7.13383232e-16\n",
      " 0.00000000e+00 2.57455791e-16 3.78850770e-16 4.18114229e-16\n",
      " 4.10175011e-16 3.01789907e-16 0.00000000e+00 1.63371290e-16\n",
      " 2.40403756e-16 3.53758398e-16 5.20561767e-16 1.91503972e-16\n",
      " 0.00000000e+00 6.22013862e-16 1.52550741e-16 0.00000000e+00\n",
      " 3.30327965e-16]\n"
     ]
    },
    {
     "data": {
      "image/png": "[encoded data removed]",
      "text/plain": [
       "<Figure size 640x480 with 1 Axes>"
      ]
     },
     "metadata": {},
     "output_type": "display_data"
    }
   ],
   "source": [
    "import numpy as np\n",
    "import matplotlib.pyplot as plt\n",
    " \n",
    "\n",
    "a=-10               \n",
    "b=10                \n",
    "ncampio=21\n",
    "N=100\n",
    "\n",
    "xc= np.linspace(a,b,ncampio)\n",
    "exp_es=np.exp(xc); #esponenziale esatto\n",
    "\n",
    "\n",
    "exp_app=np.zeros((ncampio,)); \n",
    "nt=np.zeros((ncampio,));     #indice n della serie\n",
    "\n",
    "for i in range(ncampio):\n",
    "    exp_app[i]= esp_taylor(xc[i],N)\n",
    "\n",
    "err_rel=np.abs(exp_app-exp_es)/np.abs(exp_es)\n",
    "\n",
    "print(err_rel)\n",
    "plt.plot(xc,exp_app,'b-',xc,exp_es,'r--')\n",
    "plt.title('Approssimazione esponenziale con serie di Taylor troncata')\n",
    "plt.legend(['exp_app_1','exp_esatta'])\n",
    "plt.show()\n",
    "\n",
    "\n",
    "\n",
    "plt.plot(xc,err_rel)\n",
    "plt.title(\"Errore relativo scala cartesiana\")\n",
    "plt.show()\n",
    "\n",
    "\n",
    "plt.plot(xc,err_rel)\n",
    "plt.yscale(\"log\")\n",
    "plt.title(\"Errore relativo scala semi-logaritimica\")\n",
    "plt.show()\n",
    "\n",
    "#Si nota che l'errore relativo risulta più alto nel caso di esponente negativo, perchè lo sviluppo in serie\n",
    "#presenta termini a segno alterno, e sappiamo che in situazioni particolari la somma tra numeri a segno alterno\n",
    "#può provocare la cancellazione di cifre significative e produrre quindi un algoritmo instabile\n",
    "'''\n",
    "--------------------------------------------------------------------------\n",
    "come migliorare andamento errore relativo\n",
    "--------------------------------------------------------------------------\n",
    "'''\n",
    "#Pe realizzare un aglrotimo stabile si considera il fatto che exp(-x)= 1/exp(x).\n",
    "#Si calcola quindi lo sviluppo in serie troncato ad n termini di exp(abs(x)) e poi se ne considera il reciproco.\n",
    "\n",
    "for i in range(ncampio) :\n",
    "       exp_app[i]= esp_taylor_stabile(xc[i],N)\n",
    "   \n",
    "\n",
    "err_rel_2=np.abs(exp_app-exp_es)/np.abs(exp_es)\n",
    "print(err_rel_2)\n",
    "plt.plot(xc,err_rel_2)\n",
    "plt.yscale(\"log\")\n",
    "plt.title('Errore relativo Algoritmo Migliorato- scala semilogaritmica')\n",
    "plt.show()"
   ]
  },
  {
   "cell_type": "markdown",
   "id": "0205da67-2ed7-4f56-beb7-33b5e38b8216",
   "metadata": {},
   "source": [
    "## Esercizio 9\n",
    "Calcolare l'approssimazione della derivata prima di f(x) = sin(x) in x = 1\n",
    "mediante l'algoritmo del rapporto incrementale (f(x + h) - f(x))/h per valori decrescenti\n",
    "di h, confrontandolo con il valore fornito dalla funzione di libreria per f'(x)\n",
    "mediante calcolo dell'errore relativo."
   ]
  },
  {
   "cell_type": "code",
   "execution_count": 20,
   "id": "69874847-98b5-4cd7-93a9-130f9368cc67",
   "metadata": {
    "tags": []
   },
   "outputs": [
    {
     "name": "stdout",
     "output_type": "stream",
     "text": [
      "[8.74465755e-01 7.94713494e-02 7.80364031e-03 7.78870464e-04\n",
      " 7.78720525e-05 7.78703168e-06 7.78724808e-07 7.74153481e-08\n",
      " 5.49671026e-09 9.72442012e-08 1.08237621e-07 2.16305585e-06\n",
      " 8.00296731e-05 1.35834308e-03 6.86092981e-03 2.74091121e-02\n",
      " 1.00000000e+00 1.00000000e+00 1.00000000e+00 1.00000000e+00\n",
      " 1.00000000e+00]\n"
     ]
    },
    {
     "data": {
      "text/plain": [
       "<matplotlib.legend.Legend at 0x7fe5e6555a50>"
      ]
     },
     "execution_count": 20,
     "metadata": {},
     "output_type": "execute_result"
    },
    {
     "data": {
      "image/png": "[encoded data removed]",
      "text/plain": [
       "<Figure size 640x480 with 1 Axes>"
      ]
     },
     "metadata": {},
     "output_type": "display_data"
    }
   ],
   "source": [
    "import numpy as np\n",
    "import math\n",
    "import matplotlib.pyplot as plt\n",
    "k=np.arange(0,-21,-1)\n",
    "h=10.0**k\n",
    "\n",
    "des=math.cos(1);            #derivata esatta\n",
    "\n",
    "\n",
    "x=1\n",
    "rai=(np.sin(x+h)-np.sin(x))/h #rapporto incrementale\n",
    "\n",
    "err_rel=np.abs(rai-des)/np.abs(des); # errore relativo\n",
    "\n",
    "print(err_rel)\n",
    "plt.plot(h,err_rel,'b-',h,h,'r:')\n",
    "plt.xscale(\"log\")\n",
    "plt.yscale(\"log\")\n",
    "plt.legend(['Errore relativo', 'Incremento'])"
   ]
  },
  {
   "cell_type": "code",
   "execution_count": null,
   "id": "9ea35604-f9a5-4241-9347-a0994b5a9066",
   "metadata": {},
   "outputs": [],
   "source": []
  },
  {
   "cell_type": "code",
   "execution_count": null,
   "id": "d6e83aa3-9b71-483b-9cd2-55bb422e5f5e",
   "metadata": {},
   "outputs": [],
   "source": []
  },
  {
   "cell_type": "code",
   "execution_count": null,
   "id": "a07f175c-5012-49c3-a03f-c9a4e4ea1fd0",
   "metadata": {},
   "outputs": [],
   "source": []
  },
  {
   "cell_type": "code",
   "execution_count": null,
   "id": "779f5da8-df60-4977-a25e-b37445120686",
   "metadata": {},
   "outputs": [],
   "source": []
  },
  {
   "cell_type": "code",
   "execution_count": null,
   "id": "dee3198d-e7fd-4846-9c53-64e5442cbfa8",
   "metadata": {},
   "outputs": [],
   "source": []
  },
  {
   "cell_type": "code",
   "execution_count": null,
   "id": "8fc5b7a0-aa92-49df-a1aa-4c83917aae1b",
   "metadata": {},
   "outputs": [],
   "source": []
  },
  {
   "cell_type": "code",
   "execution_count": null,
   "id": "58bdfcd8-714d-40c5-876f-deccc987825c",
   "metadata": {},
   "outputs": [],
   "source": []
  },
  {
   "cell_type": "code",
   "execution_count": null,
   "id": "df71496e-1a0c-4796-ad77-02ee606e09f3",
   "metadata": {},
   "outputs": [],
   "source": []
  },
  {
   "cell_type": "code",
   "execution_count": null,
   "id": "9cb8e124-4d0b-4d3c-aa9e-643651528680",
   "metadata": {},
   "outputs": [],
   "source": []
  },
  {
   "cell_type": "code",
   "execution_count": null,
   "id": "af14d848-1a1e-469b-a72b-fde8c00d6ca0",
   "metadata": {},
   "outputs": [],
   "source": []
  }
 ],
 "metadata": {
  "kernelspec": {
   "display_name": "Python 3 (ipykernel)",
   "language": "python",
   "name": "python3"
  },
  "language_info": {
   "codemirror_mode": {
    "name": "ipython",
    "version": 3
   },
   "file_extension": ".py",
   "mimetype": "text/x-python",
   "name": "python",
   "nbconvert_exporter": "python",
   "pygments_lexer": "ipython3",
   "version": "3.11.5"
  }
 },
 "nbformat": 4,
 "nbformat_minor": 5
}
