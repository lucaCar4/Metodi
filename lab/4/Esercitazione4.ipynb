{
 "cells": [
  {
   "cell_type": "markdown",
   "id": "b97be3ab-d6dd-495f-a342-e5e837cfb8bc",
   "metadata": {},
   "source": [
    "#                       Esercitazione 4 - 14 Marzo 2023"
   ]
  },
  {
   "cell_type": "markdown",
   "id": "60ab2cbf-4329-4dbe-b761-16ea93bb103a",
   "metadata": {},
   "source": [
    "- **1.** Verificare il sistema dei numeri di macchina gestito da Python: importare il pacchetto sys. La funzione sys.float_info dà le informazioni necessarie. Stamparle e poi verificarne la validità con le formule viste a lezione: numero minimo di macchina, numero massimo di macchina, precisione di macchina \n",
    "\n",
    "\n",
    "  **N.B.** Bisogna tenere presente che c'è l'hidden bit. Quindi la mantissa più piccola da considerare $M=1.m$ dove $m=0$. Quindi il numero minimo ha mantissa $1.0$ e parte esponente $\\beta^L$, quindi e' dato da $1.0 \\beta^L= \\beta^L$.\n",
    "  \n",
    "   Ragionate voi per calcolare il numero massimo di macchina, tenendo conto dell'hidden bit.\n"
   ]
  },
  {
   "cell_type": "code",
   "execution_count": 2,
   "id": "0d435053",
   "metadata": {},
   "outputs": [
    {
     "name": "stdout",
     "output_type": "stream",
     "text": [
      "sys.float_info(max=1.7976931348623157e+308, max_exp=1024, max_10_exp=308, min=2.2250738585072014e-308, min_exp=-1021, min_10_exp=-307, dig=15, mant_dig=53, epsilon=2.220446049250313e-16, radix=2, rounds=1)\n",
      "Numero minimo  2.2250738585072014e-308\n",
      "numero_massimo  1.7976931348623157e+308\n"
     ]
    }
   ],
   "source": [
    "import sys\n",
    "print(sys.float_info)\n",
    "beta=2.0\n",
    "t=52\n",
    "L=-1022.0\n",
    "U=1023.0\n",
    "numero_minimo=beta**(L)\n",
    "print('Numero minimo ', numero_minimo)\n",
    "numero_massimo=beta**(U)*(1+(1-beta**(-t)))\n",
    "print (\"numero_massimo \",numero_massimo)"
   ]
  },
  {
   "cell_type": "markdown",
   "id": "5d8bffe0-4a65-42e0-8ba9-3dbc0736f0bf",
   "metadata": {},
   "source": []
  },
  {
   "cell_type": "markdown",
   "id": "224ac7e6-31df-4f15-8ffc-9c82bd21c82e",
   "metadata": {},
   "source": [
    "- **2.**  Calcolare lo spacing in  $[2^{52}, 2^{53}]$.\n",
    "    - Sia $x=2^{52}$ individuare il numero successivo a $2^{52}$ ed assegnarlo ad una variabile  y.\n",
    "    - Cosa succede se consideriamo il valore z=x+0.5?\n",
    "    - Cosa succede se consideriamo il valore q=y+0.5?\n",
    "  "
   ]
  },
  {
   "cell_type": "code",
   "execution_count": 3,
   "id": "9e89ee68",
   "metadata": {},
   "outputs": [
    {
     "name": "stdout",
     "output_type": "stream",
     "text": [
      "Spacing  1.0\n",
      "X:  4503599627370496.0 Y:  4503599627370497.0\n",
      "Z:  4503599627370496.0 Q:  4503599627370498.0\n"
     ]
    }
   ],
   "source": [
    "p=52\n",
    "t=53\n",
    "beta=2.0\n",
    "spacing=beta**(p-t+1)\n",
    "print(\"Spacing \",spacing)\n",
    "x=2.0**52\n",
    "y=x+spacing\n",
    "print('X: ', x, 'Y: ', y)\n",
    "z=x+0.5\n",
    "q=y+0.5\n",
    "print('Z: ', z, 'Q: ', q)"
   ]
  },
  {
   "cell_type": "markdown",
   "id": "c73d1758-eb82-48af-8618-6dfb522dcdd6",
   "metadata": {},
   "source": [
    "- **3** Calcolare la cardinalità dell'insieme dei numeri finiti di Python"
   ]
  },
  {
   "cell_type": "code",
   "execution_count": 4,
   "id": "2869e06f",
   "metadata": {},
   "outputs": [
    {
     "name": "stdout",
     "output_type": "stream",
     "text": [
      "18428729675200069632\n"
     ]
    }
   ],
   "source": [
    "L=-1022\n",
    "U=1023\n",
    "t=53\n",
    "beta=2\n",
    "cardinalità = 2*(beta-1)*beta**(t-1)*(U-L+1)\n",
    "print(cardinalità)"
   ]
  },
  {
   "cell_type": "markdown",
   "id": "cee853bd-aca6-47f4-980f-7e44473f7523",
   "metadata": {},
   "source": [
    "- **4**  Verificare numericamente che $\\texttt{eps} = 2^{-52}$, spacing nell'intervallo $[1, 2]$,\n",
    "è il piu' piccolo $x$ tale che $fl(1 + x)$ è  diverso da $1$. Si consiglia di\n",
    "visualizzare i risultati anche per differenza.\n"
   ]
  },
  {
   "cell_type": "code",
   "execution_count": 5,
   "id": "d65339fd",
   "metadata": {},
   "outputs": [
    {
     "name": "stdout",
     "output_type": "stream",
     "text": [
      "Spacing in [1,2] 2.220446049250313e-16\n",
      "f+s= 1.0000000000000002\n",
      "f+s/2= 1.0\n",
      " risultati per differenza f+s-f= 2.220446049250313e-16 f+s/2-f= 0.0\n"
     ]
    }
   ],
   "source": [
    "p=0 \n",
    "t=53\n",
    "\n",
    "f=2**p  #numero floating point\n",
    "s=2**(p+1-t) #spacing sul segmento [2^p, 2^(p+1)]=[1,2]\n",
    "print(\"Spacing in [1,2]\",s)\n",
    "#..............................................\n",
    "f1=f+s;     #numero floating point successivo a f\n",
    "f2=f+s/2;   #risulta f\n",
    "print(\"f+s=\",f1)\n",
    "print(\"f+s/2=\",f2)\n",
    "\n",
    "print(\" risultati per differenza f+s-f=\", f1-f,\"f+s/2-f=\",f2-f)"
   ]
  },
  {
   "cell_type": "markdown",
   "id": "d19cd104-d1ea-4444-996c-0a9672063450",
   "metadata": {},
   "source": [
    "- **5.** Siano $a=1.234567890123400 e+15$, $b=-1.234567890123401 e+15$, $c=0.06$. \n",
    "  Calcolare $(a+b)+c$, $(a+c)+b$, $a+(b+c)$. Che cosa si osserva? Ripetere l'esercizio con $a=0.23371258 e-4$, $b=0.33678429 e+2$, $c=-0.33677911 e+2$."
   ]
  },
  {
   "cell_type": "code",
   "execution_count": 6,
   "id": "43128953",
   "metadata": {},
   "outputs": [
    {
     "name": "stdout",
     "output_type": "stream",
     "text": [
      "p1:  -0.94\n",
      "p2:  -1.0\n",
      "p3:  -1.0\n"
     ]
    }
   ],
   "source": [
    "a=1.234567890123400e+15\n",
    "b=-1.234567890123401e+15\n",
    "c=0.06\n",
    "p1=(a+b)+c\n",
    "p2=(a+c)+b\n",
    "p3=a+(b+c)\n",
    "\n",
    "print('p1: ', p1)\n",
    "print('p2: ', p2)\n",
    "print('p3: ', p3)"
   ]
  },
  {
   "cell_type": "code",
   "execution_count": 7,
   "id": "f4f83f41",
   "metadata": {},
   "outputs": [
    {
     "name": "stdout",
     "output_type": "stream",
     "text": [
      "p1:  0.0005413712580022434\n",
      "p2:  0.0005413712580022434\n",
      "p3:  0.0005413712579995743\n"
     ]
    }
   ],
   "source": [
    "a=0.23371258e-4\n",
    "b=0.33678429e+2\n",
    "c=-0.33677911e+2\n",
    "\n",
    "p1=(a+b)+c\n",
    "p2=(a+c)+b\n",
    "p3=a+(b+c)\n",
    "\n",
    "print('p1: ', p1)\n",
    "print('p2: ', p2)\n",
    "print('p3: ', p3)"
   ]
  },
  {
   "cell_type": "markdown",
   "id": "960d25c1-9677-4b1e-92c1-c16870d520b6",
   "metadata": {},
   "source": [
    "- **6.** Si considerino le espressioni $y_1=\\sqrt{x^2+1}-x$ e $y_2=\\frac{1}{\\sqrt{x^2+1}+x}$. Calcolare il valore di $y_1$ e $y_2$ per $x=7777$ e $x=77777777$. Che cosa si osserva? Commentare i risultati ottenuti."
   ]
  },
  {
   "cell_type": "code",
   "execution_count": 8,
   "id": "e325d613",
   "metadata": {},
   "outputs": [
    {
     "name": "stdout",
     "output_type": "stream",
     "text": [
      "7.450580596923828e-09\n",
      "6.429214317904552e-05 6.429214323431402e-05\n",
      "0.0 6.428571492857143e-09\n",
      "1.0\n"
     ]
    }
   ],
   "source": [
    "import math as m\n",
    "import numpy as np\n",
    "y1=lambda x: m.sqrt(x**2+1)-x\n",
    "y2= lambda x: 1/(m.sqrt(x**2+1)+x)\n",
    "x=7777\n",
    "print(np.spacing(x**2))\n",
    "print(y1(x), y2(x))\n",
    "x=77777777\n",
    "print(y1(x), y2(x))\n",
    "print(np.spacing(x**2))\n"
   ]
  },
  {
   "cell_type": "markdown",
   "id": "e3d8c3b3-d514-41ec-a6f2-eb22311ab157",
   "metadata": {},
   "source": [
    "- **7.** Valutare in aritmetica floating point l'espressione\n",
    "\n",
    "$A(x)=\\frac{1}{x}-\\frac{1}{(x+1)}$ nel vettore   $x=[10^0, 10^1,... ,10^{20}]$ contenente potenze successive  di $10$,  Si calcoli per ogni elemento di x l'errore relativo considerando come valore esatto quello calcolato usando  l'espressione algebricamente equivalente\n",
    "$$\n",
    "B(x)=\\frac{1}{x (x+1)}.\n",
    "$$ Si visualizzi l'errore relativo in un grafico in scala logaritmica su $x$ e $y$"
   ]
  },
  {
   "cell_type": "code",
   "execution_count": 9,
   "id": "3fd7bbc4",
   "metadata": {},
   "outputs": [
    {
     "name": "stdout",
     "output_type": "stream",
     "text": [
      "x= [1.e+00 1.e+01 1.e+02 1.e+03 1.e+04 1.e+05 1.e+06 1.e+07 1.e+08 1.e+09\n",
      " 1.e+10 1.e+11 1.e+12 1.e+13 1.e+14 1.e+15 1.e+16 1.e+17 1.e+18 1.e+19\n",
      " 1.e+20]\n",
      "spacing  [2.22044605e-16 1.77635684e-15 1.42108547e-14 1.13686838e-13\n",
      " 1.81898940e-12 1.45519152e-11 1.16415322e-10 1.86264515e-09\n",
      " 1.49011612e-08 1.19209290e-07 1.90734863e-06 1.52587891e-05\n",
      " 1.22070312e-04 1.95312500e-03 1.56250000e-02 1.25000000e-01\n",
      " 2.00000000e+00 1.60000000e+01 1.28000000e+02 2.04800000e+03\n",
      " 1.63840000e+04]\n",
      "Errore relativo  [0.00000000e+00 3.81639165e-16 8.21283146e-16 2.16209395e-14\n",
      " 6.38647291e-14 6.25044601e-13 1.07548935e-10 9.28145750e-10\n",
      " 1.03187712e-08 1.50211282e-07 6.14600376e-07 3.17244773e-08\n",
      " 4.84358805e-05 9.06716545e-04 6.03525942e-03 1.39238685e-02\n",
      " 1.00000000e+00 1.00000000e+00 1.00000000e+00 1.00000000e+00\n",
      " 1.00000000e+00]\n"
     ]
    }
   ],
   "source": [
    "x=10.0**np.arange(21)\n",
    "Ax=1/x-1/(x+1)\n",
    "Bx=1/(x*(x+1))\n",
    "\n",
    "#Calcoliamo sperimentalmente l'errore relativo di fl(A(x)) rispetto alla formula esatta B(x)\n",
    "Erelx=np.abs(Ax-Bx)/np.abs(Bx)\n",
    "print(\"x=\",x)\n",
    "print(\"spacing \",np.spacing(x))\n",
    "print(\"Errore relativo \",Erelx)"
   ]
  },
  {
   "cell_type": "markdown",
   "id": "27155dcd-6580-4e3d-aac9-fa42b717bf70",
   "metadata": {},
   "source": [
    "- **8-**  Quali problemi si possono incontrare nel calcolo delle radici di $a x^2+b x+c$? Provare a risolvere l'equazione $x^2+10^k x+1=0$ con k in range(1,9). Che cosa si osserva?"
   ]
  },
  {
   "cell_type": "code",
   "execution_count": 10,
   "id": "0858fb02",
   "metadata": {},
   "outputs": [
    {
     "name": "stdout",
     "output_type": "stream",
     "text": [
      "[1.42108547e-14 1.81898940e-12 1.16415322e-10 1.49011612e-08\n",
      " 1.90734863e-06 1.22070312e-04 1.56250000e-02 2.00000000e+00\n",
      " 1.28000000e+02]\n"
     ]
    }
   ],
   "source": [
    "b=10**np.arange(1,10)\n",
    "x1=(-b+np.sqrt(b**2-4))/2\n",
    "x2=(-b-np.sqrt(b**2-4))/2\n",
    "print(np.spacing(b**2))"
   ]
  },
  {
   "cell_type": "markdown",
   "id": "9f6294cc-b0df-40b8-a1f5-450f4e756ffa",
   "metadata": {},
   "source": [
    "- **9.** Scrivere uno script Matlab che fornisca le approssimazioni di $e=\\exp(1)$ ottenute con la formula\n",
    "$f(n)=(1/n+1)^n$ per $n=10^k$ e  $k=0, ..., 16$. Visualizzare: un grafico con i valori di $f(n)$ al variare di n ed un grafico con i valori dell'errore relativo (considerando come valore esatto il valore math.exp(1)).  Cosa si osserva? Commentare i risultati ottenuti."
   ]
  },
  {
   "cell_type": "code",
   "execution_count": 11,
   "id": "9d72d963-fa73-4a83-be6d-c6058a4783c5",
   "metadata": {},
   "outputs": [
    {
     "name": "stdout",
     "output_type": "stream",
     "text": [
      "[2.64241118e-01 4.58154732e-02 4.95459996e-03 4.99542104e-04\n",
      " 4.99954172e-05 4.99994762e-06 5.00081808e-07 4.94161284e-08\n",
      " 1.10774709e-08 8.22403744e-08 8.26903744e-08 8.27353743e-08\n",
      " 8.89045336e-05 7.98958500e-04 7.98958500e-04 1.16527056e-01\n",
      " 6.32120559e-01]\n"
     ]
    }
   ],
   "source": [
    "e = m.exp(1)\n",
    "n = 10**np.arange(17)\n",
    "fn = (1/n+1)**n\n",
    "err=np.abs(e-fn)/np.abs(e)\n",
    "\n",
    "print(err)"
   ]
  }
 ],
 "metadata": {
  "kernelspec": {
   "display_name": "Python 3 (ipykernel)",
   "language": "python",
   "name": "python3"
  },
  "language_info": {
   "codemirror_mode": {
    "name": "ipython",
    "version": 3
   },
   "file_extension": ".py",
   "mimetype": "text/x-python",
   "name": "python",
   "nbconvert_exporter": "python",
   "pygments_lexer": "ipython3",
   "version": "3.11.6"
  }
 },
 "nbformat": 4,
 "nbformat_minor": 5
}
